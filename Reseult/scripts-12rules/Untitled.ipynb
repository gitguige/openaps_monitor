{
 "cells": [
  {
   "cell_type": "code",
   "execution_count": 1,
   "metadata": {},
   "outputs": [],
   "source": [
    "import numpy as np\n",
    "import pandas as pd"
   ]
  },
  {
   "cell_type": "code",
   "execution_count": 46,
   "metadata": {},
   "outputs": [
    {
     "name": "stdout",
     "output_type": "stream",
     "text": [
      "308\n"
     ]
    }
   ],
   "source": [
    "data = pd.read_csv(\"~/Research/Medical/test/openaps_monitor/Reseult/scripts-12rules/hardware_simplified.csv\")\n",
    "# data0 = pd.read_csv(\"~/Research/Medical/test/openaps_monitor/Reseult/scripts-12rules/mitigation_simplified.csv\") #context-aware moitor\n",
    "data0 = pd.read_csv(\"~/Research/Medical/test/openaps_monitor/Reseult/scripts-12rules/baseline_mitigation_simplified.csv\")\n",
    "\n",
    "length =len(data0[\"Patient\"])\n",
    "print(length)"
   ]
  },
  {
   "cell_type": "code",
   "execution_count": 47,
   "metadata": {},
   "outputs": [],
   "source": [
    "hazardlib = []\n",
    "for i in range(length):\n",
    "    hazardlib.append(\"S%sf%s%s%s\"%(data0[\"Scenario\"][i],data0[\"fault\"][i],data0[\"Patient\"][i],data0[\"init_bg\"][i]))"
   ]
  },
  {
   "cell_type": "code",
   "execution_count": 48,
   "metadata": {},
   "outputs": [
    {
     "name": "stdout",
     "output_type": "stream",
     "text": [
      "length=308\n"
     ]
    }
   ],
   "source": [
    "# print(hazardlib)\n",
    "# print(len(np.array(hazardlib)))\n",
    "ix1 = np.isin(['S12f11patientH120'],hazardlib)\n",
    "print(\"length={}\".format(len(hazardlib)))"
   ]
  },
  {
   "cell_type": "code",
   "execution_count": 50,
   "metadata": {},
   "outputs": [
    {
     "name": "stdout",
     "output_type": "stream",
     "text": [
      "mttf_ext:min=-5, max=520,avg=19.935064935064936\n"
     ]
    }
   ],
   "source": [
    "length1 = len(data.index)#[\"Patient\"])#613\n",
    "# print(length1)\n",
    "mttf=[]\n",
    "for i in range(length1):\n",
    "    name = \"S%sf%s%s%s\"%(data[\"Scenario\"][i],data[\"fault\"][i],data[\"Patient\"][i],data[\"init_bg\"][i])\n",
    "    ix=np.isin(name,hazardlib)\n",
    "    if ix:\n",
    "        mttf.append(data[\"mttf(T3-T1)\"][i])\n",
    "#         print(name)\n",
    "\n",
    "ext_time=data0[\"mttf(T3-T1)\"]-mttf\n",
    "data0[\"mttf_before\"]=mttf\n",
    "# print(ext_time)\n",
    "print(\"mttf_ext:min={}, max={},avg={}\".format(min(ext_time)*5,max(ext_time)*5,np.mean(ext_time)*5))\n",
    "# data0.to_csv('~/Research/Medical/test/openaps_monitor/Reseult/scripts-12rules/mitigation_simplified_edited.csv')\n",
    "# data0.to_csv('~/Research/Medical/test/openaps_monitor/Reseult/scripts-12rules/baseline_mitigation_simplified_edited.csv')"
   ]
  },
  {
   "cell_type": "code",
   "execution_count": 51,
   "metadata": {},
   "outputs": [
    {
     "name": "stdout",
     "output_type": "stream",
     "text": [
      "std=47.77513281933263\n"
     ]
    }
   ],
   "source": [
    "print(\"std={}\".format(np.std(ext_time)*5))"
   ]
  }
 ],
 "metadata": {
  "kernelspec": {
   "display_name": "Python 3",
   "language": "python",
   "name": "python3"
  },
  "language_info": {
   "codemirror_mode": {
    "name": "ipython",
    "version": 3
   },
   "file_extension": ".py",
   "mimetype": "text/x-python",
   "name": "python",
   "nbconvert_exporter": "python",
   "pygments_lexer": "ipython3",
   "version": "3.5.2"
  }
 },
 "nbformat": 4,
 "nbformat_minor": 2
}
