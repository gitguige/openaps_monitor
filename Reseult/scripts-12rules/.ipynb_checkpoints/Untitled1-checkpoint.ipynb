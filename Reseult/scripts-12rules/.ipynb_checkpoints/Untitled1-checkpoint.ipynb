{
 "cells": [
  {
   "cell_type": "code",
   "execution_count": 22,
   "metadata": {},
   "outputs": [],
   "source": [
    "import numpy as np\n",
    "x=[(0,0), (1, -1), (2,-1.5), (3,2), (4,1.5), (5,1.5), (6, 0.8), (7,0), (8,-.5)]\n",
    "h=[ (0,1), (1,-.8), (2,-.5), (3,-.2)]"
   ]
  },
  {
   "cell_type": "code",
   "execution_count": 31,
   "metadata": {},
   "outputs": [],
   "source": [
    "lenx =len(x)\n",
    "lenh =len(h)\n",
    "y=np.zeros(lenx+lenh-1)\n",
    "for i in range(lenx):\n",
    "    for j in range(lenh):\n",
    "        y[i+j] += x[i][1]*h[j][1]"
   ]
  },
  {
   "cell_type": "code",
   "execution_count": 32,
   "metadata": {},
   "outputs": [
    {
     "name": "stdout",
     "output_type": "stream",
     "text": [
      "[(0, 0.0), (1, -1.0), (2, -0.7), (3, 3.7), (4, 0.8499999999999999), (5, -0.40000000000000013), (6, -1.55), (7, -1.6900000000000002), (8, -1.2000000000000002), (9, 0.24), (10, 0.25), (11, 0.1)]\n"
     ]
    }
   ],
   "source": [
    "y1=[]\n",
    "for i in range(len(y)):\n",
    "    y1.append((i,y[i]))\n",
    "\n",
    "print(y1)"
   ]
  },
  {
   "cell_type": "code",
   "execution_count": null,
   "metadata": {},
   "outputs": [],
   "source": [
    "x1=[0,0), (1,80), (2, 85), (3, 90) ,(4,87) ,(5, 88)]\n"
   ]
  }
 ],
 "metadata": {
  "kernelspec": {
   "display_name": "Python 2",
   "language": "python",
   "name": "python2"
  },
  "language_info": {
   "codemirror_mode": {
    "name": "ipython",
    "version": 3
   },
   "file_extension": ".py",
   "mimetype": "text/x-python",
   "name": "python",
   "nbconvert_exporter": "python",
   "pygments_lexer": "ipython3",
   "version": "3.5.2"
  }
 },
 "nbformat": 4,
 "nbformat_minor": 2
}
